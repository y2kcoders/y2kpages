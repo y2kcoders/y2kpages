{
 "cells": [
  {
   "cell_type": "markdown",
   "metadata": {},
   "source": [
    "---\n",
    "toc: true\n",
    "comments: true\n",
    "layout: post\n",
    "title: Unit 10 Lesson\n",
    "description: the lesson for the unit 1\n",
    "permalink: /lesson\n",
    "courses: { csa: {week: '7'} }\n",
    "type: hacks\n",
    "---"
   ]
  },
  {
   "cell_type": "markdown",
   "metadata": {},
   "source": [
    "## In this lesson...\n",
    "1. We're going to talk specifically about how merge sort works.    \n",
    "2. Apply recursive algorithms to sort elements of array or **Arraylist** objects."
   ]
  },
  {
   "cell_type": "markdown",
   "metadata": {},
   "source": [
    "## Essential Knowledge\n",
    "Merge sort is a recursive sorting algorithm that can be used to sort elements in an array or **Arraylist**\n",
    "\n",
    "## Basic of Merge sort\n",
    "Look at this method called mergeSort where I pass in an array, and then I immediately make a recursive a call to mereSort again with just the left half of my array. And Once I've got the left have taken care of, then I make a recursive call to mergeSort with the right half of my array. Then I merge left and right together."
   ]
  },
  {
   "cell_type": "code",
   "execution_count": null,
   "metadata": {},
   "outputs": [],
   "source": [
    "mergeSort(myArray) {\n",
    "    mergeSort(left);\n",
    "    mergeSort(right);\n",
    "    merge(left & right);\n",
    "}"
   ]
  },
  {
   "cell_type": "markdown",
   "metadata": {},
   "source": [
    "## How sort actually works"
   ]
  },
  {
   "cell_type": "code",
   "execution_count": null,
   "metadata": {},
   "outputs": [],
   "source": [
    "mergeSort(myArray, low, high) {\n",
    "    if (low < high) {\n",
    "        middle = (high + low)/2;\n",
    "        mergeSort(myArray, low, middle);\n",
    "        mergeSort(myArray, middle+1, high);\n",
    "        merge(myArray, low, middle, high);\n",
    "    }\n",
    "}"
   ]
  },
  {
   "cell_type": "markdown",
   "metadata": {},
   "source": [
    "Merge Method ---The **merge** method \n"
   ]
  },
  {
   "cell_type": "code",
   "execution_count": null,
   "metadata": {},
   "outputs": [],
   "source": [
    "\n",
    "// work from left to right in each virtual myArray\n",
    "// compare elements to return them to the original array in order\n",
    "int[] myArray = [3, 4, 6, 8, 1, 2, 5, 7]\n",
    "// think of the temporary array as two virtual arrays\n",
    "int[] myArray1 = [3, 4, 6, 8];\n",
    "int[] myArray2 = [1, 2, 5, 7];"
   ]
  },
  {
   "cell_type": "markdown",
   "metadata": {},
   "source": [
    "1. 1 < 3, 1 goes to the first place\n",
    "2. 2 < 3, 2 goes to the second place\n",
    "3. 3 < 5, 3 goes to the third place\n",
    "4. "
   ]
  }
 ],
 "metadata": {
  "kernelspec": {
   "display_name": "Java",
   "language": "java",
   "name": "java"
  },
  "language_info": {
   "name": "java"
  }
 },
 "nbformat": 4,
 "nbformat_minor": 2
}
