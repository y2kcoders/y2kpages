{
 "cells": [
  {
   "cell_type": "markdown",
   "metadata": {},
   "source": [
    "---\n",
    "toc: true\n",
    "comments: true\n",
    "layout: post\n",
    "title: Unit 10 Lesson\n",
    "description: the lesson for the unit 1\n",
    "permalink: /lesson\n",
    "courses: { csa: {week: '7'} }\n",
    "type: hacks\n",
    "---"
   ]
  },
  {
   "cell_type": "markdown",
   "metadata": {},
   "source": [
    "## In this lesson...\n",
    "1. We're going to talk specifically about how merge sort works.    \n",
    "2. Apply recursive algorithms to sort elements of array or **Arraylist** objects."
   ]
  },
  {
   "cell_type": "markdown",
   "metadata": {},
   "source": [
    "## Essential Knowledge\n",
    "Merge sort is a recursive sorting algorithm that can be used to sort elements in an array or **Arraylist**\n",
    "\n",
    "## Basic of Merge sort\n",
    "Look at this method called mergeSort where I pass in an array, and then I immediately make a recursive a call to mereSort again with just the left half of my array. And Once I've got the left have taken care of, then I make a recursive call to mergeSort with the right half of my array. Then I merge left and right together."
   ]
  },
  {
   "cell_type": "code",
   "execution_count": null,
   "metadata": {
    "vscode": {
     "languageId": "java"
    }
   },
   "outputs": [],
   "source": [
    "mergeSort(myArray) {\n",
    "    mergeSort(left);\n",
    "    mergeSort(right);\n",
    "    merge(left & right);\n",
    "}"
   ]
  },
  {
   "cell_type": "markdown",
   "metadata": {},
   "source": [
    "## How sort actually works"
   ]
  },
  {
   "cell_type": "code",
   "execution_count": null,
   "metadata": {
    "vscode": {
     "languageId": "java"
    }
   },
   "outputs": [],
   "source": [
    "mergeSort(myArray, low, high) {\n",
    "    if (low < high) {\n",
    "        middle = (high + low)/2;\n",
    "        mergeSort(myArray, low, middle);\n",
    "        mergeSort(myArray, middle+1, high);\n",
    "        merge(myArray, low, middle, high);\n",
    "    }\n",
    "}"
   ]
  },
  {
   "cell_type": "markdown",
   "metadata": {},
   "source": [
    "Merge Method ---The **merge** method \n"
   ]
  },
  {
   "cell_type": "code",
   "execution_count": null,
   "metadata": {
    "vscode": {
     "languageId": "java"
    }
   },
   "outputs": [],
   "source": [
    "\n",
    "// work from left to right in each virtual myArray\n",
    "// compare elements to return them to the original array in order\n",
    "int[] myArray = {3, 4, 6, 8, 1, 2, 5, 7}\n",
    "// think of the temporary array as two virtual arrays\n",
    "int[] myArray1 = {3, 4, 6, 8};\n",
    "int[] myArray2 = {1, 2, 5, 7};\n",
    "// have to throw an exception for the last one to end the code\n",
    "// if any elements remain in the lower half of the temporary array, return them to the original array"
   ]
  },
  {
   "cell_type": "markdown",
   "metadata": {},
   "source": [
    "1. 1 < 3, 1 goes to the first place\n",
    "2. 2 < 3, 2 goes to the second place\n",
    "3. 3 < 5, 3 goes to the third place\n",
    "<details>\n",
    "<p>4. 4 < 5, 4 goes to the fourth place</p> \n",
    "<p>5. 5 < 6, 5 goes to the fifth place</p>      \n",
    "<p>6. 6 < 7, 6 goes to the sixth place</p> \n",
    "<p>7. 7 < 8, 7 goes tot the seventh place</p> \n",
    "<p>8. 8 goes to the last place\n",
    "</detail>"
   ]
  },
  {
   "cell_type": "markdown",
   "metadata": {},
   "source": [
    "## Code Time"
   ]
  },
  {
   "cell_type": "code",
   "execution_count": 21,
   "metadata": {
    "vscode": {
     "languageId": "java"
    }
   },
   "outputs": [
    {
     "name": "stdout",
     "output_type": "stream",
     "text": [
      "1 2 3 4 5 6 8 9 \n"
     ]
    }
   ],
   "source": [
    "\n",
    "public class sort {\n",
    "  public static int[] output;   \n",
    "  public static void __mergeSort(int[] myArray, int left, int right) {\n",
    "    if(left < right) {\n",
    "      int i;\n",
    "      int center = (left + right) / 2;\n",
    "      int p = 0;\n",
    "      int j = 0;\n",
    "      int k = left;\n",
    "\n",
    "      __mergeSort(myArray, left, center);         \n",
    "      __mergeSort(myArray, center + 1, right);     \n",
    "\n",
    "      for(i = left; i <= center; i++) {\n",
    "        output[p++] = myArray[i];\n",
    "\n",
    "      }\n",
    "      while (i <= right && j < p) {\n",
    "        if (output[j] <= myArray[i]) {\n",
    "            myArray[k] = output[j]; \n",
    "            j++; \n",
    "        } else {\n",
    "            myArray[k] = myArray[i]; \n",
    "            i++; \n",
    "        }\n",
    "        k++; \n",
    "      }\n",
    "      \n",
    "      while (j < p) {\n",
    "          myArray[k++] = output[j++];\n",
    "      }\n",
    "    }\n",
    "  }\n",
    "\n",
    "  public static void mergeSort(int[] myArray) {\n",
    "\n",
    "    output = new int[myArray.length];          \n",
    "\n",
    "    __mergeSort(myArray, 0, myArray.length - 1);   \n",
    "    output = null;               \n",
    "  }\n",
    "  public static void printArray(int[] array) {\n",
    "      for(int data: array) {\n",
    "          System.out.print(data + \" \");\n",
    "      }\n",
    "      System.out.println();\n",
    "  }\n",
    "  public static void main(String[] args) {\n",
    "      int[] array = {3, 4, 6, 8, 1, 2, 5, 9};\n",
    "      mergeSort(array);\n",
    "      printArray(array);\n",
    "  }\n",
    "}\n",
    "sort.main(null);"
   ]
  },
  {
   "cell_type": "markdown",
   "metadata": {},
   "source": [
    "## Essential Knowledge\n",
    "Merge sort is a recursive sorting algorithm that can be used to sort elements in an array or Arraylist. "
   ]
  }
 ],
 "metadata": {
  "kernelspec": {
   "display_name": "Java",
   "language": "java",
   "name": "java"
  },
  "language_info": {
   "codemirror_mode": "java",
   "file_extension": ".jshell",
   "mimetype": "text/x-java-source",
   "name": "Java",
   "pygments_lexer": "java",
   "version": "20.0.2+9"
  }
 },
 "nbformat": 4,
 "nbformat_minor": 2
}
