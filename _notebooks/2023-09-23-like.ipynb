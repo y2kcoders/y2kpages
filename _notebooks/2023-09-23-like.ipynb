{
 "cells": [
  {
   "cell_type": "markdown",
   "metadata": {},
   "source": [
    "---\n",
    "title: Like and Dislike\n",
    "author: Justin\n",
    "description: Creating Methods and frontend code for likes and dislikes\n",
    "courses: { csa: {week: 3} }\n",
    "type: Testing\n",
    "---"
   ]
  },
  {
   "cell_type": "code",
   "execution_count": null,
   "metadata": {},
   "outputs": [],
   "source": []
  }
 ],
 "metadata": {
  "language_info": {
   "name": "python"
  }
 },
 "nbformat": 4,
 "nbformat_minor": 2
}
