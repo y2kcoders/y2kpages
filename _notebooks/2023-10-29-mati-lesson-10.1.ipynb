{
 "cells": [
  {
   "cell_type": "markdown",
   "metadata": {},
   "source": [
    "---\n",
    "layout: post\n",
    "title: JAVA 10.1 lesson\n",
    "description: learn all about recursion in java\n",
    "type: hacks\n",
    "courses: {'csa': {'week': 11}}\n",
    "categories: [C4.1]\n",
    "---"
   ]
  },
  {
   "cell_type": "markdown",
   "metadata": {},
   "source": [
    "# Learning Targets:\n",
    "- Determine the result of executing recursive method.\n",
    "\n",
    "# Essential Knowledge:\n",
    "- Recursion is a method that calls itself.\n",
    "- Recursive methods contain at least one base case, which halts the recursion, and at least one recursive call. \n",
    "    - To accomplish this is a recursive method contains a conditional. \n",
    "- each recursive call has its own set of local variables, including formal parameters.\n",
    "- parameter values capture the progress of a recursive process, much like a loop control variable vales capture the progress of a loop.\n",
    "- any recursive sloution can be replicated throu the user of an <b> i word </b> (iteration, index, or integer) approach. \n",
    "    -  exclusion statement: writing recursive program code is outside the scope of the AP CSA course and exam but it is allowed. but sometimes it is more straightforward than iterative. \n",
    "### Example of recursion:\n",
    "```java \n",
    "public static void main(String[] args) {\n",
    "    System.out.println(\"Hello World!\");\n",
    "    main(args);\n",
    "}\n",
    "```\n",
    "### Example of recursion with a base case:\n",
    "```java\n",
    "public static void main(String[] args) {\n",
    "    System.out.println(\"Hello World!\");\n",
    "    if (args.length > 0) {\n",
    "        main(args);\n",
    "    }\n",
    "}\n",
    "```\n",
    "### Example of recursion with a base case and a recursive call including formal parameters:\n",
    "```java\n",
    "public static void main(String[] args) {\n",
    "    System.out.println(\"Hello World!\");\n",
    "    if (args.length > 0) {\n",
    "        main(args);\n",
    "    }\n",
    "}\n",
    "```\n",
    "\n",
    "\n",
    "### This is a recursive code, do we all agree with that?"
   ]
  },
  {
   "cell_type": "markdown",
   "metadata": {},
   "source": [
    "note : pay attention"
   ]
  },
  {
   "cell_type": "code",
   "execution_count": null,
   "metadata": {},
   "outputs": [],
   "source": [
    "// void recursive method\n",
    "public static void simpleRecur(int n)\n",
    "{\n",
    "    system.out.println(n);\n",
    "    if (n > 2) // the if statement cuases the recursion to end when n <. 2 since the recursive call \n",
    "    // since the recursive call only occurs when n > 2 \n",
    "        simpleRecur(n-1); \n",
    "    system.out.println(n);\n",
    "\n",
    "}"
   ]
  },
  {
   "cell_type": "markdown",
   "metadata": {},
   "source": [
    "lets trace the call simpleRecur(4)\n",
    "| Call Stack  | Variable trace for call  |\n",
    "|---|---|\n",
    "| simpleRecur(4)  | n=4    4>2, T  |\n",
    "| simpleRecur(3)  | n=3    2>2, T  |\n",
    "| simpleRecur(2)  | n=2    2>2, F  |\n"
   ]
  },
  {
   "cell_type": "markdown",
   "metadata": {},
   "source": [
    "### pop corn hack!!!!!!\n",
    "#### Note: 0.01 extra credit for each correct answer, we have limit Paraas to 3 answers.\n",
    "\n",
    "What would be the output of the code above? (0.01 extra credit)\n",
    "\n",
    "here is a modified code from above, what would be the output of the code above? and what would be the base case? (0.01 extra credit)\n"
   ]
  },
  {
   "cell_type": "code",
   "execution_count": null,
   "metadata": {},
   "outputs": [],
   "source": [
    "// infinite \n",
    "public static void simpleRecur(int n)\n",
    "{\n",
    "    system.out.println(n);\n",
    "    if (n > 2)\n",
    "        simpleRecur(n+3); \n",
    "    system.out.println(n);\n",
    "\n",
    "}"
   ]
  },
  {
   "cell_type": "markdown",
   "metadata": {},
   "source": [
    "| Call Stack  | Variable trace for call  |\n",
    "|---|---|\n",
    "| simpleRecur(4)  | n=4    4>2, T  |\n",
    "| simpleRecur(7)  | n=7   7>2, T  |\n",
    "| simpleRecur(10)  | n=10    10>2, T  |\n",
    "\n",
    "n is getting larger infinitely. java will eventually run out of memory and cause a ```CallStackOverflowException```."
   ]
  },
  {
   "cell_type": "code",
   "execution_count": null,
   "metadata": {},
   "outputs": [],
   "source": [
    "// non-void recursive method\n",
    "public static void simpleRecur(int n)\n",
    "{\n",
    "    system.out.println(n);\n",
    "    if (n == 0)\n",
    "        return 0;\n",
    "    return n + system.out.println(n);\n",
    "\n",
    "}"
   ]
  },
  {
   "cell_type": "markdown",
   "metadata": {},
   "source": [
    "| Call Stack  | Variable trace for call  |\n",
    "|---|---|\n",
    "| simpleRecur(8)=8 + simpleRecur(4) | n=8    8==0 F |\n",
    "| simpleRecur(4)=4 + simpleRecur(2) | n=4    4==0 F |\n",
    "| simpleRecur(2)=2 + simpleRecur(1) | n=2    2==0 F |\n",
    "| simpleRecur(1)=1 + simpleRecur(0) | n=1    1==0 F |\n",
    "| simpleRecur(0)=0 | n=    0==0 T |"
   ]
  },
  {
   "cell_type": "markdown",
   "metadata": {},
   "source": [
    "but where does it return 0 to?\n",
    "\n",
    "\n",
    "<body>\n",
    "    <div id=\"content\">\n",
    "        <p>Enter the password to reveal the hidden text:</p>\n",
    "        <input type=\"password\" id=\"password\">\n",
    "        <button onclick=\"revealText()\">Reveal Text</button>\n",
    "        <div id=\"hiddenText\" style=\"display: none;\">\n",
    "            <p>where it was called!!!!\n",
    "\n",
    "in this case, 0 was recalled in simpleRecur(0), the 0 replaces it so 1+ 0 = 1 and 1 tries to do the same as zero</p>\n",
    "        </div>\n",
    "    </div>\n",
    "    <script>\n",
    "        function revealText() {\n",
    "            const password = document.getElementById(\"password\").value;\n",
    "            const hiddenText = document.getElementById(\"hiddenText\");\n",
    "            if (password === \"mort\") {\n",
    "                hiddenText.style.display = \"block\";\n",
    "            } else {\n",
    "                alert(\"Incorrect password. Try again.\");\n",
    "            }\n",
    "        }\n",
    "    </script>\n",
    "</body>\n"
   ]
  }
 ],
 "metadata": {
  "kernelspec": {
   "display_name": "Java",
   "language": "java",
   "name": "java"
  },
  "language_info": {
   "codemirror_mode": "java",
   "file_extension": ".jshell",
   "mimetype": "text/x-java-source",
   "name": "java",
   "pygments_lexer": "java",
   "version": "20+36-2344"
  }
 },
 "nbformat": 4,
 "nbformat_minor": 2
}
