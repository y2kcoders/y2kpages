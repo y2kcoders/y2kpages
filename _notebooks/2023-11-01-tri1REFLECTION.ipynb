{
 "cells": [
  {
   "cell_type": "markdown",
   "metadata": {},
   "source": [
    "---\n",
    "title: individual review justin nguyen tri 1\n",
    "description: what did I do? How can I do better?\n",
    "courses: { csa: {week: 4} }\n",
    "type: Tangibles\n",
    "---"
   ]
  },
  {
   "cell_type": "markdown",
   "metadata": {},
   "source": [
    "# Issues\n",
    "\n",
    "I've kept up to date with my progress in my scrum board. I mainly used one issue to keep track of my update functionality progress. \n",
    "\n",
    "[like dislike functionality issue](https://github.com/y2kcoders/backend/issues/1) This was my main issue I worked in, every time I made progress on my like/dislike and update functionality, I added it in here. The issue is closed now that its done, but it was useful to keep track of progress.\n",
    "\n",
    "[backend issue](https://github.com/orgs/y2kcoders/projects/1/views/1?pane=issue&itemId=40758657) I only posted 2 comments here to let Finn know I got update sorted out, and figured out the cors error problem, but I also kept up to date with this one to see how progress was made, and see what else needed to be done.\n",
    "\n",
    "## reflection on issues\n",
    "\n",
    "logging progress in issues was really only done because it was satisfying to write down how I solved problems. Though they also do help in organizing what work should be done or other progress. I think some issues on our scrum board could be divided into smaller issues for ease of access. I will make sure to focus on this for tri 2. \n",
    "\n",
    "# overview of feature. What did I do fr?\n",
    "\n",
    "Main entry to my feature is Post.html, right here: [link](https://y2kcoders.github.io/skatepark.co/posts). \n",
    "\n",
    "Main feature was update functionality via like and dislike buttons.\n",
    "\n",
    "# main backend code"
   ]
  },
  {
   "cell_type": "code",
   "execution_count": null,
   "metadata": {},
   "outputs": [],
   "source": [
    "\n",
    "    @PostMapping(\"/like/{name}\")  // Change the path variable to 'name'\n",
    "    public ResponseEntity<Skatepark> updateLikes(@PathVariable String name) {\n",
    "        List<Skatepark> skateparks = repository.findBySkateparkName(name);\n",
    "        if (!skateparks.isEmpty()) {\n",
    "            Skatepark skatepark = skateparks.get(0); // Assuming you want to work with the first matching skatepark\n",
    "            int currentLikes = skatepark.getTotalLikes();\n",
    "            skatepark.setTotalLikes(currentLikes + 1); // Increment likes by 1\n",
    "            // You can also update the author who liked the skatepark\n",
    "            repository.save(skatepark);\n",
    "            return new ResponseEntity<>(skatepark, HttpStatus.OK);\n",
    "        }\n",
    "        return new ResponseEntity<>(HttpStatus.NOT_FOUND);\n",
    "    }\n",
    "\n",
    "    @PostMapping(\"/dislike/{name}\")  // Change the path variable to 'name'\n",
    "    public ResponseEntity<Skatepark> updated_Dislikes(@PathVariable String name) {\n",
    "        List<Skatepark> skateparks = repository.findBySkateparkName(name);\n",
    "        if (!skateparks.isEmpty()) {\n",
    "            Skatepark skatepark = skateparks.get(0); // Assuming you want to work with the first matching skatepark\n",
    "            int currentLikes = skatepark.getTotalLikes();\n",
    "            skatepark.setTotalLikes(currentLikes - 1); // decrease likes by 1\n",
    "            // You can also update the author who liked the skatepark\n",
    "            repository.save(skatepark);\n",
    "            return new ResponseEntity<>(skatepark, HttpStatus.OK);\n",
    "        }\n",
    "        return new ResponseEntity<>(HttpStatus.NOT_FOUND);\n",
    "    }\n"
   ]
  },
  {
   "cell_type": "markdown",
   "metadata": {},
   "source": [
    "this part was pretty tricky to get done. At first, a different method was used, I think it was push or something. but it didn't work. I found out the easier method is to do what jokes did and use post instead of the built in update method. This worked pretty well, and I was able to get these 2 methods working. progress can be seen in issues mentioned before. \n",
    "\n",
    "What it does is it finds the repository by a name variable, and then it grabs the total likes and either adds to it by one or lowers it by one depending on if its like or dislike. then it updates the data entry with the new like count.\n",
    "\n",
    "# Main frontend code"
   ]
  },
  {
   "cell_type": "code",
   "execution_count": null,
   "metadata": {},
   "outputs": [],
   "source": [
    " <div id=\"skatepark-cards\" class=\"scroll-container\">\n",
    "        <!-- This div element is used to hold dynamically created skatepark cards. It serves as a container for displaying skatepark objects. -->\n",
    "    </div>\n",
    "    <script>     "
   ]
  },
  {
   "cell_type": "markdown",
   "metadata": {},
   "source": [
    "this div element will hold the cards we are gathering from our database."
   ]
  },
  {
   "cell_type": "code",
   "execution_count": null,
   "metadata": {},
   "outputs": [],
   "source": [
    "// Finding and updating the skatepark card element by skateparkName, showcasing encapsulation.\n",
    "function updateLike(skateparkName) {\n",
    "    console.log(\"Like button clicked for skatepark: \" + skateparkName);\n",
    "    const requestOptions = {\n",
    "        method: 'POST',\n",
    "        cache: 'no-cache',\n",
    "        credentials: 'include',\n",
    "    };\n",
    "    // Use the fetch function with the modified request options\n",
    "    //http://localhost:8085/api/skatepark/like/\n",
    "    //https://y2kcoders.stu.nighthawkcodingsociety.com/api/skatepark/like/\n",
    "    fetch(\"https://y2kcoders.stu.nighthawkcodingsociety.com/api/skatepark/like/\" + skateparkName, requestOptions)\n",
    "        .then(response => {\n",
    "            if (!response.ok) {\n",
    "                throw Error('Network response was not ok');\n",
    "            }\n",
    "            return response.json();\n",
    "        })\n",
    "        .then(data => {\n",
    "            // Find the skatepark card element by skateparkName\n",
    "            const skateparkCard = document.querySelector(`[data-skatepark-name=\"${skateparkName}\"]`);\n",
    "            if (skateparkCard) {\n",
    "                     // Update the totalLikes element in the card\n",
    "           const totalLikesElement = skateparkCard.querySelector(\".total-likes\");\n",
    "               if (totalLikesElement) {\n",
    "                 totalLikesElement.textContent = `Total Likes: ${data.totalLikes}`;\n",
    "                                    }\n",
    "                                }\n",
    "            console.log(data); // Log the fetched data to the console\n",
    "        })\n",
    "        .catch(error => {\n",
    "            console.error('Fetch error:', error);\n",
    "        });\n",
    "}\n"
   ]
  },
  {
   "cell_type": "markdown",
   "metadata": {},
   "source": [
    "Basic usage of function is calling the like method on backend and then having the new data recived by but into an element in the skatepark card that was updated with like or dislike. "
   ]
  },
  {
   "cell_type": "code",
   "execution_count": null,
   "metadata": {},
   "outputs": [],
   "source": [
    "        \n",
    "        \n",
    "        function update_dislike(skateparkName) {\n",
    "            console.log(\"dislike button clicked for skatepark: \" + skateparkName);\n",
    "            const requestOptions = {\n",
    "                method: 'POST',\n",
    "                cache: 'no-cache',\n",
    "                credentials: 'include',\n",
    "            };\n",
    "        \n",
    "            // Use the fetch function with the modified request options\n",
    "            //http://localhost:8085/api/skatepark/like/\n",
    "            //https://y2kcoders.stu.nighthawkcodingsociety.com/api/skatepark/like/\n",
    "            fetch(\"https://y2kcoders.stu.nighthawkcodingsociety.com/api/skatepark/dislike/\" + skateparkName, requestOptions)\n",
    "                .then(response => {\n",
    "                    if (!response.ok) {\n",
    "                        throw Error('Network response was not ok');\n",
    "                    }\n",
    "                    return response.json();\n",
    "                })\n",
    "                .then(data => {\n",
    "                    // Find the skatepark card element by skateparkName\n",
    "                    const skateparkCard = document.querySelector(`[data-skatepark-name=\"${skateparkName}\"]`);\n",
    "                    if (skateparkCard) {\n",
    "                             // Update the totalLikes element in the card\n",
    "                   const totalLikesElement = skateparkCard.querySelector(\".total-likes\");\n",
    "                       if (totalLikesElement) {\n",
    "                         totalLikesElement.textContent = `Total Likes: ${data.totalLikes}`;\n",
    "                                            }\n",
    "                                        }\n",
    "                    console.log(data); // Log the fetched data to the console\n",
    "                })\n",
    "                .catch(error => {\n",
    "                    console.error('Fetch error:', error);\n",
    "                });\n",
    "        }"
   ]
  },
  {
   "cell_type": "markdown",
   "metadata": {},
   "source": [
    "Basically same thing as like function but for dislike instead. no real difference here other than we call dislike function."
   ]
  },
  {
   "cell_type": "code",
   "execution_count": null,
   "metadata": {},
   "outputs": [],
   "source": [
    "document.addEventListener(\"DOMContentLoaded\", function () {\n",
    "    const skateparkCardsContainer = document.getElementById(\"skatepark-cards\");\n",
    "\n",
    "    // Replace the URL with the actual URL\n",
    "    //http://localhost:8085/api/skatepark/\n",
    "    //https://y2kcoders.stu.nighthawkcodingsociety.com/api/skatepark/\n",
    "    const apiUrl = 'https://y2kcoders.stu.nighthawkcodingsociety.com/api/skatepark/';\n",
    "\n",
    "    fetch(apiUrl)\n",
    "        .then(response => response.json())\n",
    "        .then(data => {\n",
    "            data.forEach(skatepark => {\n",
    "                // Create a new div card for each skatepark\n",
    "                // Creating individual skatepark cards, which encapsulate the information for each skatepark.\n",
    "                const car = document.createElement(\"div\");\n",
    "                car.className = \"car\";\n",
    "                car.dataset.skateparkName = skatepark.skateparkName; // Add data attribute\n",
    "                car.innerHTML = `\n",
    "                    <div class=\"details\">\n",
    "                        <div class=\"info\">\n",
    "                            <h3 id = \"test\">${skatepark.skateparkName}</h3>\n",
    "                            <img src = \"https://y2kcoders.stu.nighthawkcodingsociety.com/image/${skatepark.skateparkName}\">\n",
    "                            <p><b>Author:</b> ${skatepark.author}</p>\n",
    "                            <p><b>Title:</b> ${skatepark.title}</p>\n",
    "                            <p><b>Address:</b> ${skatepark.address}</p>\n",
    "                            <p><b>Star Rating:</b> ${skatepark.starRating}</p>\n",
    "                            <p><b>Description:</b> ${skatepark.description}</p>\n",
    "                            <p class =\"total-likes\"><b>Total Likes:</b> ${skatepark.totalLikes}</p>\n",
    "                        </div>\n",
    "                        <div class=\"actions\">\n",
    "                            <button onclick=\"updateLike('${skatepark.skateparkName}')\">Like</button>\n",
    "                            <button onclick=\"update_dislike('${skatepark.skateparkName}')\">dislike</button>\n",
    "                            <button>Share</button>\n",
    "                        </div>\n",
    "                    </div>\n",
    "                `;\n",
    "                skateparkCardsContainer.appendChild(car);\n",
    "            });\n",
    "        })\n",
    "        .catch(error => console.error(\"Error fetching data:\", error));\n",
    "});\n",
    "</script>"
   ]
  },
  {
   "cell_type": "markdown",
   "metadata": {},
   "source": [
    "this code Creates individual skatepark cards, which encapsulate the information for each skatepark. also note the data attribute we use to update like and dislike in real time.\n"
   ]
  },
  {
   "cell_type": "markdown",
   "metadata": {},
   "source": [
    "# commits and progress\n",
    "\n",
    "IMAGES WILL GO HERE WHEN IM SURE I'VE GOT EVERYTHING COMMITTED\n",
    "\n",
    "[likes updated commit](https://github.com/y2kcoders/backend/commit/39756e984084cc0e9d4ac2b49d5282768e1f5c2b)\n",
    "\n",
    "This commit was the one where I figured out how like was supposed to work. This was the main starting point for the rest of my work, as the like function served as a basis for other work to be done.\n",
    "\n",
    "[cors error fixed commit](https://github.com/y2kcoders/backend/commit/a43d51d0a225fabbb847dd126e3f3f850b845351)\n",
    "\n",
    "This commit was the one where I fixed the cors error our team struggled on for a couple days at that point. Fix was pretty simple in hindsight, but it took lots of trial and error and looking around to fix this problem, but doing it allowed our entire project to actually work on deployed frontend.\n",
    "\n",
    "# College board learning and mcq\n",
    "\n",
    "the mcq isn't done yet but it will go in this link when i'm done. I also plan on reviewing my strengths and weaknesses and what I need to review after the mcq so I can test myself and see what I do and don't understand. [mcq blog](https://jyustin.github.io/getsums//c1.0/2023/10/31/csafinalmcq1.html)\n",
    "\n",
    "# tri 1 reflection\n",
    "\n",
    "this trimester went pretty smoothly, and there was lots of collaboration and working on the project, which is a pretty big leap from the suffering I faced in last year. I think next tri, I want to build a more substantial project feature that I really think is cool, but I can say this tri, things went pretty well for me and my team."
   ]
  }
 ],
 "metadata": {
  "kernelspec": {
   "display_name": "Java",
   "language": "java",
   "name": "java"
  },
  "language_info": {
   "name": "java"
  }
 },
 "nbformat": 4,
 "nbformat_minor": 2
}
