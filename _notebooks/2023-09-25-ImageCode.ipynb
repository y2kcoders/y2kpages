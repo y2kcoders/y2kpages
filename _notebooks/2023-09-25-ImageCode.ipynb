{
 "cells": [
  {
   "cell_type": "markdown",
   "metadata": {},
   "source": [
    "---\n",
    "title: Image Uploading API\n",
    "author: James\n",
    "description: code and progress behind the image uploading API\n",
    "courses: { csa: {week: 2} }\n",
    "type: Testing\n",
    "---"
   ]
  },
  {
   "cell_type": "code",
   "execution_count": null,
   "metadata": {},
   "outputs": [],
   "source": []
  }
 ],
 "metadata": {
  "language_info": {
   "name": "python"
  }
 },
 "nbformat": 4,
 "nbformat_minor": 2
}
