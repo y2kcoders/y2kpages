{
 "cells": [
  {
   "cell_type": "markdown",
   "metadata": {},
   "source": [
    "---\n",
    "title: ChatBoard Plans\n",
    "author: Mati D\n",
    "description: outlining the wireframes I need and going through all the elements needed\n",
    "courses: { csa: {week: 1} }\n",
    "type: Ideas\n",
    "---"
   ]
  },
  {
   "cell_type": "markdown",
   "metadata": {},
   "source": [
    "# Ideas\n",
    "\n",
    "- have a username box\n",
    "- the unsername can be saved in cookies\n",
    "- have a chatbox\n",
    "- the users can send messages.\n",
    "- chatroom?!\n",
    "- delete messages that are older than 20 messages as not to flood the db\n",
    "- have a list of users?\n"
   ]
  },
  {
   "cell_type": "markdown",
   "metadata": {},
   "source": [
    "# frontend idea\n",
    "![frontend idea]({{site-url}}/images/chatboard.drawio.png)"
   ]
  },
  {
   "cell_type": "markdown",
   "metadata": {},
   "source": [
    "# done: \n",
    "- [x] have a username box\n",
    "- [x] the unsername can be saved in cookies\n",
    "- [x] have a chatbox\n",
    "- [x] the users can send messages.\n"
   ]
  },
  {
   "cell_type": "code",
   "execution_count": null,
   "metadata": {
    "vscode": {
     "languageId": "plaintext"
    }
   },
   "outputs": [],
   "source": []
  }
 ],
 "metadata": {
  "kernelspec": {
   "display_name": "Java",
   "language": "java",
   "name": "java"
  },
  "language_info": {
   "name": "java"
  }
 },
 "nbformat": 4,
 "nbformat_minor": 2
}
