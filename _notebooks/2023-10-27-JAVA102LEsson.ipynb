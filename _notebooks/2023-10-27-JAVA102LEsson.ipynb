{
 "cells": [
  {
   "cell_type": "markdown",
   "metadata": {},
   "source": [
    "---\n",
    "layout: post\n",
    "title: JAVA 10.2 lesson\n",
    "description: viewed\n",
    "type: hacks\n",
    "courses: {'csa': {'week': 8}}\n",
    "categories: [C4.1]\n",
    "---"
   ]
  },
  {
   "cell_type": "markdown",
   "metadata": {},
   "source": [
    "# linear search \n",
    "\n",
    "int Array- |0|2|4|6|8|10|12|14|16|18|20|22|\n",
    "\n",
    "target 12\n",
    "\n",
    "with linear search, we just iterate through each value, starting at the start of the list. here, we need 7 iterations to find 4.\n",
    "\n",
    "# iterative binary search"
   ]
  },
  {
   "cell_type": "code",
   "execution_count": null,
   "metadata": {},
   "outputs": [],
   "source": [
    "//iterative approach to binary search\n",
    "// This is a method for performing a binary search on a sorted integer array.\n",
    "// It returns the index of the target element if found, or -1 if the element is not in the array.\n",
    "public static int binarySearch(int[] intArray, int lowPosition, int highPosition, int target) {\n",
    "    int midPosition;\n",
    "\n",
    "    // Use a while loop to repeatedly divide the search range in half.\n",
    "    while (lowPosition <= highPosition) {\n",
    "        // Calculate the middle position of the current search range.\n",
    "        midPosition = (highPosition + lowPosition) / 2;\n",
    "\n",
    "        // If the element at the middle position is less than the target,\n",
    "        // we narrow our search to the right half of the current range.\n",
    "        if (intArray[midPosition] < target) {\n",
    "            lowPosition = midPosition + 1;\n",
    "        }\n",
    "        // If the element at the middle position is greater than the target,\n",
    "        // we narrow our search to the left half of the current range.\n",
    "        else if (intArray[midPosition] > target) {\n",
    "            highPosition = midPosition - 1;\n",
    "        }\n",
    "        // If the element at the middle position is equal to the target,\n",
    "        // we have found our target, and we return its index.\n",
    "        else {\n",
    "            return midPosition;\n",
    "        }\n",
    "    }\n",
    "    \n",
    "    // If the while loop completes without finding the target, we return -1 to indicate it's not in the array.\n",
    "    return -1;\n",
    "}\n"
   ]
  },
  {
   "cell_type": "markdown",
   "metadata": {},
   "source": [
    "# recursive binary search"
   ]
  },
  {
   "cell_type": "code",
   "execution_count": null,
   "metadata": {},
   "outputs": [],
   "source": [
    "public static int recBinarySearch(int[] intArray, int lowPosition, int highPosition, int target) {\n",
    "    int midPosition;\n",
    "\n",
    "    // Check if the lower index is greater than the higher index, indicating an empty search range.\n",
    "    if (lowPosition > highPosition) {\n",
    "        // If the low index is greater than the high index, the target element is not found.\n",
    "        return -1;\n",
    "    } else {\n",
    "        // Calculate the middle index of the current search range.\n",
    "        midPosition = (lowPosition + highPosition) / 2;\n",
    "\n",
    "        // If the element at the middle index is less than the target, search in the right half of the array.\n",
    "        if (intArray[midPosition] < target) {\n",
    "            // Recursively call the function with an updated search range (right half).\n",
    "            return recBinarySearch(intArray, midPosition + 1, highPosition, target);\n",
    "        }\n",
    "\n",
    "        // If the element at the middle index is greater than the target, search in the left half of the array.\n",
    "        if (intArray[midPosition] > target) {\n",
    "            // Recursively call the function with an updated search range (left half).\n",
    "            return recBinarySearch(intArray, lowPosition, midPosition - 1, target);\n",
    "        }\n",
    "\n",
    "        // If the element at the middle index is equal to the target, we found the target element.\n",
    "        // Return the index where the target element is found (midPosition).\n",
    "        return midPosition;\n",
    "    }\n",
    "}\n"
   ]
  },
  {
   "cell_type": "markdown",
   "metadata": {},
   "source": [
    "# tracing through a runthrough\n",
    "\n",
    "int Array: |0|2|4|6|8|10|12|14|16|18|20|22|\n",
    "Target: 12\n",
    "\n",
    "recBinarySearch(intArray, 0, 10, 12);\n",
    "\n",
    "Call 1:\n",
    "Midpoint calculated as (0 + 10) / 2 = 5\n",
    "The target value 12 is greater than the midpoint value at index 5 (10).\n",
    "So, we narrow our search to values greater than the midpoint.\n",
    "\n",
    "Call 2: recBinarySearch(intArray, mid1, high, target)\n",
    "Midpoint 1 calculated as (mid + high) / 2 = 7\n",
    "\n",
    "The midpoint value at index 7 is 14, which is greater than 12, so the next call is between low and mid.\n",
    "\n",
    "Call 3: Another recursive call finds the midpoint value at index 6, as it's between low and mid, which is our target number.\n",
    "\n",
    "If the target does not exist, we would print -1 as the value is not found."
   ]
  },
  {
   "cell_type": "markdown",
   "metadata": {},
   "source": [
    "# popcorn hack\n",
    "\n",
    "edit the following code so that running the cell will sort through an array of your creation."
   ]
  },
  {
   "cell_type": "code",
   "execution_count": 1,
   "metadata": {},
   "outputs": [
    {
     "data": {
      "text/plain": [
       "9"
      ]
     },
     "execution_count": 1,
     "metadata": {},
     "output_type": "execute_result"
    }
   ],
   "source": [
    "public static int recBinarySearch(int[] intArray, int lowPosition, int highPosition, int target) {\n",
    "    int midPosition;\n",
    "\n",
    "    // Check if the lower index is greater than the higher index, indicating an empty search range.\n",
    "    if (lowPosition > highPosition) {\n",
    "        // If the low index is greater than the high index, the target element is not found.\n",
    "        return -1;\n",
    "    } else {\n",
    "        // Calculate the middle index of the current search range.\n",
    "        midPosition = (lowPosition + highPosition) / 2;\n",
    "\n",
    "        // If the element at the middle index is less than the target, search in the right half of the array.\n",
    "        if (intArray[midPosition] < target) {\n",
    "            // Recursively call the function with an updated search range (right half).\n",
    "            return recBinarySearch(intArray, midPosition + 1, highPosition, target);\n",
    "        }\n",
    "\n",
    "        // If the element at the middle index is greater than the target, search in the left half of the array.\n",
    "        if (intArray[midPosition] > target) {\n",
    "            // Recursively call the function with an updated search range (left half).\n",
    "            return recBinarySearch(intArray, lowPosition, midPosition - 1, target);\n",
    "        }\n",
    "\n",
    "        // If the element at the middle index is equal to the target, we found the target element.\n",
    "        // Return the index where the target element is found (midPosition).\n",
    "        return midPosition;\n",
    "    }\n",
    "}\n",
    "\n",
    "// int[] intArray = {}; // uncomment these lines and fill them in with the info needed for the code to run and find your target.\n",
    "// recBinarySearch(some code should go here);"
   ]
  },
  {
   "cell_type": "markdown",
   "metadata": {},
   "source": [
    "# takeaways\n",
    "\n",
    "Data must be in sorted order for binary search to work.\n",
    "\n",
    "The binary search algorithm starts in the middle of the sorted array or arraylist and and eliminates half of the array or arraylist in each iteration until\n",
    "the desired value is found or all elements have been eliminated\n",
    "\n",
    "Binary search can be more effective than linear search\n",
    "\n",
    "binary search algorithm can be written linearly or recursively"
   ]
  },
  {
   "cell_type": "markdown",
   "metadata": {},
   "source": [
    "# topic 2 recursive sorting and searching\n",
    "\n",
    "APPLY RECURSIVE LOGIC TO sort arrays for elements\n"
   ]
  },
  {
   "cell_type": "code",
   "execution_count": null,
   "metadata": {},
   "outputs": [],
   "source": [
    "mergeSort(myList) {\n",
    "    mergeSort(left)\n",
    "    mergeSort(right)\n",
    "}\n",
    "\n",
    "// left, right merge"
   ]
  },
  {
   "cell_type": "markdown",
   "metadata": {},
   "source": [
    "# example trace (look at the whiteboard, I will draw it out maybe)\n",
    "\n",
    "Original List:\n",
    "|5|25|8|-9|14|0|-2|2|\n",
    "\n",
    "The first recursive call begins by splitting the list into the left and right sides: (5, 25, 8, -9).\n",
    "\n",
    "Another recursive call is made on the left side, which further splits into (5, 25).\n",
    "\n",
    "The left and right sides are split into individual elements, and the two elements (5 and 25) are merged, resulting in (5, 25).\n",
    "\n",
    "The current list becomes (5, 25, -9, 8).\n",
    "\n",
    "The current list is sorted, resulting in (-9, 5, 8, 25).\n",
    "\n",
    "Current List:\n",
    "\n",
    "|-9|5|8|25|14|0|-2|2|\n",
    "\n",
    "The final left side is sorted, and a recursive call is made for the right side: (14, 0, -2, 2).\n",
    "\n",
    "The right side is further split into (14, 0).\n",
    "\n",
    "These two elements (14 and 0) are merged into (0, 14).\n",
    "\n",
    "The remaining elements (-2 and 2) are merged into (-2, 2).\n",
    "\n",
    "The right side is now (0, 14, -2, 2).\n",
    "\n",
    "Current List:\n",
    "|-9|5|8|25|0|14|-2|2|\n",
    "\n",
    "The left and right sides are finally merged together:\n",
    "\n",
    "Left: -9, 5, 8, 25\n",
    "\n",
    "Right: 0, 14, -2, 2\n",
    "\n",
    "The two merged sides are sorted, resulting in the final sorted list:\n",
    "|-9|0|2|5|8|14|25|\n",
    "\n",
    "The merge sort process is complete, and the original list is sorted:\n",
    "Sorted List: |-9|0|2|5|8|14|25|\n",
    "\n"
   ]
  },
  {
   "cell_type": "code",
   "execution_count": 7,
   "metadata": {},
   "outputs": [
    {
     "name": "stdout",
     "output_type": "stream",
     "text": [
      "Sorted Array: -9 -2 0 2 5 8 14 25 "
     ]
    }
   ],
   "source": [
    "public class MergeSort {\n",
    "    public static void main(String[] args) {\n",
    "        int[] arr = {5, 25, 8, -9, 14, 0, -2, 2};\n",
    "\n",
    "        mergeSort(arr); // Call the mergeSort method to sort the 'arr' array.\n",
    "\n",
    "        System.out.print(\"Sorted Array: \");\n",
    "        for (int num : arr) {\n",
    "            System.out.print(num + \" \");\n",
    "        }\n",
    "    }\n",
    "\n",
    "    public static void mergeSort(int[] arr) {\n",
    "        if (arr.length > 1) { // If the array has more than one element, we proceed to sort it.\n",
    "            int middle = arr.length / 2;\n",
    "\n",
    "            int[] left = new int[middle];\n",
    "            for (int i = 0; i < middle; i++) {\n",
    "                left[i] = arr[i]; // Copy the left half of the array.\n",
    "            }\n",
    "\n",
    "            int[] right = new int[arr.length - middle];\n",
    "            for (int i = middle; i < arr.length; i++) {\n",
    "                right[i - middle] = arr[i]; // Copy the right half of the array.\n",
    "            }\n",
    "\n",
    "            mergeSort(left); // Recursively sort the left half of the array.\n",
    "            mergeSort(right); // Recursively sort the right half of the array.\n",
    "\n",
    "            int i = 0, j = 0, k = 0;\n",
    "\n",
    "            while (i < left.length && j < right.length) {\n",
    "                if (left[i] < right[j]) {\n",
    "                    arr[k] = left[i]; // Merge the sorted left and right halves into the original array.\n",
    "                    i++;\n",
    "                } else {\n",
    "                    arr[k] = right[j];\n",
    "                    j++;\n",
    "                }\n",
    "                k++;\n",
    "            }\n",
    "\n",
    "            while (i < left.length) {\n",
    "                arr[k] = left[i]; // If there are remaining elements in the left half, add them to the original array.\n",
    "                i++;\n",
    "                k++;\n",
    "            }\n",
    "\n",
    "            while (j < right.length) {\n",
    "                arr[k] = right[j]; // If there are remaining elements in the right half, add them to the original array.\n",
    "                j++;\n",
    "                k++;\n",
    "            }\n",
    "        }\n",
    "    }\n",
    "}\n",
    "\n",
    "MergeSort.main(null); // Call the main method to start the sorting process.\n"
   ]
  },
  {
   "cell_type": "markdown",
   "metadata": {},
   "source": [
    "# TAKEAWAYS\n",
    "\n",
    "Mergesort is a recursive sorting algorithm that can be used to sort elements in an array or ArrayList\n",
    "\n",
    "for the AP test, you must remember how it works. remember the left-right merge rule."
   ]
  },
  {
   "cell_type": "markdown",
   "metadata": {},
   "source": [
    "# hack\n",
    "\n",
    "Question: what are the usage cases of merge sort? what about usage cases of recursive binary sort? try and come up with a real life scenario for each usage case.\n",
    "\n"
   ]
  }
 ],
 "metadata": {
  "kernelspec": {
   "display_name": "Java",
   "language": "java",
   "name": "java"
  },
  "language_info": {
   "codemirror_mode": "java",
   "file_extension": ".jshell",
   "mimetype": "text/x-java-source",
   "name": "java",
   "pygments_lexer": "java",
   "version": "20.0.2+9"
  }
 },
 "nbformat": 4,
 "nbformat_minor": 2
}
