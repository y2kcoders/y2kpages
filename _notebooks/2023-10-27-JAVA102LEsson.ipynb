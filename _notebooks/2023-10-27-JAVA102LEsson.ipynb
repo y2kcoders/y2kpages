{
 "cells": [
  {
   "cell_type": "markdown",
   "metadata": {},
   "source": [
    "---\n",
    "layout: post\n",
    "title: JAVA 10.2 lesson\n",
    "description: viewed\n",
    "type: hacks\n",
    "courses: {'csa': {'week': 8}}\n",
    "categories: [C4.1]\n",
    "---"
   ]
  },
  {
   "cell_type": "markdown",
   "metadata": {},
   "source": [
    "# linear search \n",
    "\n",
    "int Array- 0 2 4 6 8 10 12 14 16 18 20 22\n",
    "\n",
    "target 12\n",
    "\n",
    "with linear search, we just iterate through each value, starting at the start of the list. here, we need 7 iterations to find 4."
   ]
  },
  {
   "cell_type": "code",
   "execution_count": null,
   "metadata": {},
   "outputs": [],
   "source": [
    "//iterative approach to binary search\n",
    "\n",
    "public static int binarySearch(int[] intArray, int lowPosition, \n",
    "int highPosition, int target) {\n",
    "int midPosition;\n",
    "\n",
    "while (lowposition <= highPosition) \n",
    "{\n",
    "    midPosition = (highPosition + lowPosition) / 2;\n",
    "    if (intArray[midPosition] < target) {\n",
    "        lowPosition = midPosition + 1;\n",
    "    } else if (intArray[midPosition] > target) {\n",
    "        highPosition = midPosition - 1;\n",
    "    } else {\n",
    "        return midPosition;\n",
    "    }\n",
    "}\n",
    "return -1;\n",
    "}"
   ]
  },
  {
   "cell_type": "code",
   "execution_count": null,
   "metadata": {},
   "outputs": [],
   "source": [
    "// Binary search-Recursive\n",
    "\n",
    "public static int recBinarySearch(int[] intArray, int lowPosition,\n",
    " int highPosition, int target) \n",
    "int midPosition;\n",
    "if (lowPosition > highPosition)\n",
    " {\n",
    "    return -1;\n",
    "}\n",
    "else {\n",
    "    midPosition = (lowPosition + highPosition) / 2;\n",
    "    if (intArray[midPosition] < target) {\n",
    "        return recBinarySearch(intArray, midPosition + 1, highPosition, target);\n",
    "\n",
    "}\n",
    "if (intArray[midPosition] > target) {\n",
    "    return midPosition;\n",
    " } \n",
    "}"
   ]
  },
  {
   "cell_type": "markdown",
   "metadata": {},
   "source": [
    "don't forget binary search must be done with sorted list\n",
    "\n",
    "int Array- 0 2 4 6 8 10 12 14 16 18 20 22\n",
    "\n",
    "target 12\n",
    "\n",
    "recBinarySearch(intArray,0,10,12);\n",
    "\n",
    "Call 1\n",
    "mid calculated as (0 + 10)/2 = 5\n",
    "Target value 12 is greater than mid value at index 5 (10)\n",
    "We forget all values less than or equal to our mid value \n",
    "\n",
    "Call 2 recBinarySearch(intArray, mid1, high, target)\n",
    "\n",
    "mid1 calculated as (mid + high)/2 = 7\n",
    "\n",
    "mid value at index is 14, greater than 12, next call is between low and mid\n",
    "\n",
    "Call 3: another recursive call will find midpoint value at index 6, as thats between low and mid\n",
    "\n",
    "If target does not exist, then we would print -1 as the value is not found"
   ]
  },
  {
   "cell_type": "markdown",
   "metadata": {},
   "source": [
    "# takeaways\n",
    "\n",
    "Data must be in sorted order for binary search to work.\n",
    "\n",
    "The binary search algorithm starts in the middle of the sorted array or arraylist and and eliminates half of the array or arraylist in each iteration until\n",
    "the desired value is found or all elements have been eliminated\n",
    "\n",
    "Binary search can be more effective than linear search\n",
    "\n",
    "binary search algorithm can be written linearly or recursively"
   ]
  },
  {
   "cell_type": "markdown",
   "metadata": {},
   "source": [
    "# topic 2 recursive sorting and searching\n",
    "\n",
    "APPLY RECURSIVE LOGIC TO sort arrays for elements\n"
   ]
  },
  {
   "cell_type": "code",
   "execution_count": null,
   "metadata": {},
   "outputs": [],
   "source": [
    "mergeSort(myList) {\n",
    "    mergeSort(left)\n",
    "    mergeSort(right)\n",
    "}\n",
    "\n",
    "// left, right merge"
   ]
  },
  {
   "cell_type": "markdown",
   "metadata": {},
   "source": [
    "LIST:\n",
    "\n",
    "5|25|8|-9|14|0|-2|2|\n",
    "\n",
    "first call recursively calls on the left side \n",
    "(5,25,8,-9)\n",
    "\n",
    "another recursive call on merge sort with (5,25)\n",
    "\n",
    "the 5 and 25 are split into left and right, and the 2 elements are \"merged\" \n",
    "\n",
    "\n",
    "now merge sort called recursively on 8,-9\n",
    "\n",
    "then 8 and -9 are merged, but -9 is before 8, so -9 comes first\n",
    "\n",
    "current list, 5,25,-9,8\n",
    "\n",
    "the current list is then sorted\n",
    "\n",
    "list: -9,5,8,25\n",
    "\n",
    "\n",
    "FINAL CURRENT LIST RN: -9/5/8/25/14/0/-2/2\n",
    "\n",
    "final left of merge sort is done, now recursive call to merge sort with right side\n",
    "\n",
    "right side split into 14,0,-2,2\n",
    "\n",
    "right side split into 14, 0\n",
    "\n",
    "that split into left, right\n",
    "\n",
    "left: 14\n",
    "\n",
    "right: 0\n",
    "\n",
    "those 2 merged into \n",
    "\n",
    "0,14\n",
    "\n",
    "left right merge call done\n",
    "\n",
    "-2,2 part now split into -2 and 2\n",
    "and merged\n",
    "\n",
    "those 2 combined into 0,14,-2,2\n",
    "\n",
    "FINAL right side: -2,0,2,14\n",
    "\n",
    "LEFT AND RIGHT FINALLY MERGED TOGETHER\n",
    "\n",
    "LEFT: -9,5,8,25\n",
    "\n",
    "RIGHT: -2,0,2,14\n",
    "\n",
    "THOSE 2 MERGED TOGETHER AND SORTED\n",
    "\n",
    "final list: |-9|-2|0|2|5|8|14|25|\n",
    "\n",
    "merge sort done with original call, merged list done\n"
   ]
  },
  {
   "cell_type": "markdown",
   "metadata": {},
   "source": [
    "# TAKEAWAYS\n",
    "\n",
    "Mergesort is a recursive sorting algorithm that can be used to sort elements in an array or ArrayList"
   ]
  }
 ],
 "metadata": {
  "kernelspec": {
   "display_name": "Java",
   "language": "java",
   "name": "java"
  },
  "language_info": {
   "name": "java"
  }
 },
 "nbformat": 4,
 "nbformat_minor": 2
}
