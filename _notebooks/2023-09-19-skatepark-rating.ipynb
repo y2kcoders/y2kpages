{
 "cells": [
  {
   "cell_type": "markdown",
   "metadata": {},
   "source": [
    "---\n",
    "title: Skatepark Outline/Plan\n",
    "author: Finn C\n",
    "description: just small thing I have to test\n",
    "courses: { csa: {week: 0} }\n",
    "type: Ideas\n",
    "---"
   ]
  },
  {
   "cell_type": "markdown",
   "metadata": {},
   "source": [
    "## The data I want my database to hold\n",
    "\n",
    "| Skatepark Posts        | Author         | Title            | Address               | Star Rating | Descripition   | Total Likes |\n",
    "|------------------------|----------------|------------------|-----------------------|-------------|----------------|-------------|\n",
    "| Del Sur Skate Park     | Finn Carpenter | Del Sur Mid Park | 15820 Paseo Montenero | 3           | blah blah blah | 12          |\n",
    "| Penasquitos Skate Park |                |                  |                       |             |                |             |\n",
    "| Poway Skate Park       |                |                  |                       |             |                |             |\n",
    "\n",
    "## Methods we need to have\n",
    "- **Create Method**\n",
    "    - Needed When Post need to be uploaded\n",
    "\n",
    "- **Update**\n",
    "    - Unsure if I want to update all data\n",
    "    - Will probably used to update the like value\n",
    "\n",
    "- **Read**\n",
    "    - Will be used to view the web page\n",
    "\n",
    "- **Delete**\n",
    "    - Used to delete post made that are inappropriate or bad"
   ]
  },
  {
   "cell_type": "markdown",
   "metadata": {},
   "source": [
    "## What should I model my database after\n",
    "\n",
    "I'll probably copy the **person api** that Mr.Mortensen has made and transfer it into having skatepark qualities."
   ]
  }
 ],
 "metadata": {
  "kernelspec": {
   "display_name": "Java",
   "language": "java",
   "name": "java"
  },
  "language_info": {
   "name": "java"
  }
 },
 "nbformat": 4,
 "nbformat_minor": 2
}
