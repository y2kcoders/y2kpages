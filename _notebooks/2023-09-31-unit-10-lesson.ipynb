{
 "cells": [
  {
   "cell_type": "markdown",
   "metadata": {},
   "source": [
    "---\n",
    "toc: true\n",
    "comments: true\n",
    "layout: post\n",
    "title: Unit 10 Lesson\n",
    "description: the lesson for the unit 0\n",
    "permalink: /lesson10\n",
    "courses: { csa: {week: '11'} }\n",
    "type: hacks\n",
    "---"
   ]
  },
  {
   "cell_type": "markdown",
   "metadata": {},
   "source": [
    "<p class=\"line-1 anim-typewriter\">Lesson 10: All About Recursions </p>\n",
    "<p class=\"line-2 anim-typewriter\">the final stretch</p>\n",
    "<style>\n",
    "    /* Google Fonts */\n",
    "    @import url(https://fonts.googleapis.com/css?family=Anonymous+Pro);\n",
    "    \n",
    "    /* Global */\n",
    "    html{\n",
    "      min-height: 100%;\n",
    "      overflow: hidden;\n",
    "    }\n",
    "    body{\n",
    "      height: calc(100vh - 8em);\n",
    "      padding: 4em;\n",
    "      color: rgba(255,255,255,.75);\n",
    "      font-family: 'Anonymous Pro', monospace;  \n",
    "      background-color: rgb(25,25,25);  \n",
    "    }\n",
    "    .line-1{\n",
    "        position: relative;\n",
    "        top: 50%;  \n",
    "        width: 24em;\n",
    "        margin: 0 auto;\n",
    "        border-right: 2px solid rgba(255,255,255,.75);\n",
    "        font-size: 180%;\n",
    "        text-align: center;\n",
    "        white-space: nowrap;\n",
    "        overflow: hidden;\n",
    "        transform: translateY(-50%);    \n",
    "    }\n",
    "        .line-2{\n",
    "        position: relative;\n",
    "        top: 50%;  \n",
    "        width: 24em;\n",
    "        margin: 0 auto;\n",
    "        border-right: 2px solid rgba(255,255,255,.75);\n",
    "        font-size: 100%;\n",
    "        text-align: center;\n",
    "        white-space: nowrap;\n",
    "        overflow: hidden;\n",
    "        transform: translateY(-50%);    \n",
    "    }\n",
    "    \n",
    "    /* Animation */\n",
    "    .anim-typewriter{\n",
    "      animation: typewriter 4s steps(44) 1s 1 normal both,\n",
    "                 blinkTextCursor 500ms steps(44) infinite normal;\n",
    "    }\n",
    "    @keyframes typewriter{\n",
    "      from{width: 0;}\n",
    "      to{width: 24em;}\n",
    "    }\n",
    "    @keyframes blinkTextCursor{\n",
    "      from{border-right-color: rgba(255,255,255,.75);}\n",
    "      to{border-right-color: transparent;}\n",
    "    }\n",
    "    </style>\n",
    "   "
   ]
  },
  {
   "cell_type": "markdown",
   "metadata": {},
   "source": [
    "# Learning Targets:\n",
    "- Determine the result of executing recursive method.\n",
    "\n",
    "# Essential Knowledge:\n",
    "- Recursion is a method that calls itself.\n",
    "- Recursive methods contain at least one base case, which halts the recursion, and at least one recursive call. \n",
    "    - To accomplish this is a recursive method contains a conditional. \n",
    "- each recursive call has its own set of local variables, including formal parameters.\n",
    "- parameter values capture the progress of a recursive process, much like a loop control variable vales capture the progress of a loop.\n",
    "- any recursive sloution can be replicated throu the user of an <b> i word </b> (iteration, index, or integer) approach. \n",
    "    -  exclusion statement: writing recursive program code is outside the scope of the AP CSA course and exam but it is allowed. but sometimes it is more straightforward than iterative. \n",
    "### Example of recursion:\n",
    "```java \n",
    "public static void main(String[] args) {\n",
    "    System.out.println(\"Hello World!\");\n",
    "    main(args);\n",
    "}\n",
    "```\n",
    "### Example of recursion with a base case:\n",
    "```java\n",
    "public static void main(String[] args) {\n",
    "    System.out.println(\"Hello World!\");\n",
    "    if (args.length > 0) {\n",
    "        main(args);\n",
    "    }\n",
    "}\n",
    "```\n",
    "### Example of recursion with a base case and a recursive call including formal parameters:\n",
    "```java\n",
    "public static void main(String[] args) {\n",
    "    System.out.println(\"Hello World!\");\n",
    "    if (args.length > 0) {\n",
    "        main(args);\n",
    "    }\n",
    "}\n",
    "```\n",
    "\n",
    "\n",
    "### This is a recursive code, do we all agree with that?\n",
    "note : pay attention"
   ]
  },
  {
   "cell_type": "code",
   "execution_count": null,
   "metadata": {
    "vscode": {
     "languageId": "java"
    }
   },
   "outputs": [],
   "source": [
    "// void recursive method\n",
    "public static void simpleRecur(int n)\n",
    "{\n",
    "    system.out.println(n);\n",
    "    if (n > 2) // the if statement cuases the recursion to end when n <. 2 since the recursive call \n",
    "    // since the recursive call only occurs when n > 2 \n",
    "        simpleRecur(n-1); \n",
    "    system.out.println(n);\n",
    "\n",
    "}"
   ]
  },
  {
   "cell_type": "markdown",
   "metadata": {},
   "source": [
    "lets trace the call simpleRecur(4)\n",
    "| Call Stack  | Variable trace for call  |\n",
    "|---|---|\n",
    "| simpleRecur(4)  | n=4    4>2, T  |\n",
    "| simpleRecur(3)  | n=3    2>2, T  |\n",
    "| simpleRecur(2)  | n=2    2>2, F  |\n",
    "\n",
    "### pop corn hack!!!!!!\n",
    "#### Note: 0.01 extra credit for each correct answer, we have limit Paraas to 3 answers.\n",
    "\n",
    "What would be the output of the code above? (0.01 extra credit)\n",
    "\n",
    "here is a modified code from above, what would be the output of the code above? and what would be the base case? (0.01 extra credit)\n"
   ]
  },
  {
   "cell_type": "code",
   "execution_count": null,
   "metadata": {
    "vscode": {
     "languageId": "java"
    }
   },
   "outputs": [],
   "source": [
    "// infinite \n",
    "public static void simpleRecur(int n)\n",
    "{\n",
    "    system.out.println(n);\n",
    "    if (n > 2)\n",
    "        simpleRecur(n+3); \n",
    "    system.out.println(n);\n",
    "\n",
    "}"
   ]
  },
  {
   "cell_type": "markdown",
   "metadata": {},
   "source": [
    "| Call Stack  | Variable trace for call  |\n",
    "|---|---|\n",
    "| simpleRecur(4)  | n=4    4>2, T  |\n",
    "| simpleRecur(7)  | n=7   7>2, T  |\n",
    "| simpleRecur(10)  | n=10    10>2, T  |\n",
    "\n",
    "n is getting larger infinitely. java will eventually run out of memory and cause a ```CallStackOverflowException```."
   ]
  },
  {
   "cell_type": "code",
   "execution_count": null,
   "metadata": {
    "vscode": {
     "languageId": "java"
    }
   },
   "outputs": [],
   "source": [
    "// non-void recursive method\n",
    "public static void simpleRecur(int n)\n",
    "{\n",
    "    system.out.println(n);\n",
    "    if (n == 0)\n",
    "        return 0;\n",
    "    return n + system.out.println(n);\n",
    "\n",
    "}"
   ]
  },
  {
   "cell_type": "markdown",
   "metadata": {},
   "source": [
    "| Call Stack  | Variable trace for call  |\n",
    "|---|---|\n",
    "| simpleRecur(8)=8 + simpleRecur(4) | n=8    8==0 F |\n",
    "| simpleRecur(4)=4 + simpleRecur(2) | n=4    4==0 F |\n",
    "| simpleRecur(2)=2 + simpleRecur(1) | n=2    2==0 F |\n",
    "| simpleRecur(1)=1 + simpleRecur(0) | n=1    1==0 F |\n",
    "| simpleRecur(0)=0 | n=    0==0 T |\n",
    "\n",
    "\n",
    "### but where does it return 0 to?\n",
    "\n",
    "\n",
    "<body>\n",
    "    <div id=\"content\">\n",
    "        <p>Enter the password to answer:</p>\n",
    "        <input type=\"password\" id=\"password\">\n",
    "        <button onclick=\"revealText()\">Reveal Text</button>\n",
    "        <div id=\"hiddenText\" style=\"display: none;\">\n",
    "            <p>where it was called!!!!<br/>\n",
    "\n",
    "in this case, 0 was recalled in simpleRecur(0), the 0 replaces it so 1+ 0 = 1 and 1 tries to do the same as zero</p>\n",
    "        </div>\n",
    "    </div>\n",
    "    <script>\n",
    "        function revealText() {\n",
    "            const password = document.getElementById(\"password\").value;\n",
    "            const hiddenText = document.getElementById(\"hiddenText\");\n",
    "            if (password === \"mort\") {\n",
    "                hiddenText.style.display = \"block\";\n",
    "            } else {\n",
    "                alert(\"Incorrect password. Try again.\");\n",
    "            }\n",
    "        }\n",
    "    </script>\n",
    "</body>\n",
    "\n",
    "### what would be the return of simpleRecur(8)?\n",
    "<body>\n",
    "    <div id=\"content\">\n",
    "        <p>Enter the password answer:</p>\n",
    "        <input type=\"password\" id=\"password\">\n",
    "        <button onclick=\"revealText()\">Reveal Text</button>\n",
    "        <div id=\"hiddenText\" style=\"display: none;\">\n",
    "            <p>8</p>\n",
    "        </div>\n",
    "    </div>\n",
    "    <script>\n",
    "        function revealText() {\n",
    "            const password = document.getElementById(\"password\").value;\n",
    "            const hiddenText = document.getElementById(\"hiddenText\");\n",
    "            if (password === \"vardaan\") {\n",
    "                hiddenText.style.display = \"block\";\n",
    "            } else {\n",
    "                alert(\"Incorrect password. Try again.\");\n",
    "            }\n",
    "        }\n",
    "    </script>\n",
    "</body>\n",
    "\n",
    "\n"
   ]
  },
  {
   "cell_type": "markdown",
   "metadata": {},
   "source": [
    "### most of this might have flew over your head, but don't fret. \n",
    "## real world examples of recursion:\n",
    "### Russian dolls\n",
    "- Russian dolls are a set of wooden dolls of decreasing size placed one inside another.\n",
    "- The dolls are made in such a way that each doll can be opened in half to reveal a smaller doll inside.\n",
    "- Lets set the smallest as the base case\n",
    "- The dolls are a recursive structure because each doll is a smaller version of the previous doll.\n",
    "\n",
    "![Russian dolls](https://nestingdolls.co/cdn/shop/products/product-image-782189840.jpg?v=1571724422)\n",
    "\n",
    "mr. finn here is gonna talk about how to visualize recursion better. "
   ]
  },
  {
   "cell_type": "markdown",
   "metadata": {},
   "source": [
    "# Recursion Visualized\n",
    "- Finn Carpenter\n",
    "- XCHART Library\n",
    "\n",
    "## Important Note\n",
    "- If you hit the X button to close the window it breaks the kernel\n",
    "- Two Options\n",
    "    - Have a bunch of those windows, when done the close\n",
    "    - Keep refreshing kernel by switching to python and then back to java\n",
    "\n",
    "## Basic X Chart Code\n"
   ]
  },
  {
   "cell_type": "code",
   "execution_count": null,
   "metadata": {
    "vscode": {
     "languageId": "java"
    }
   },
   "outputs": [],
   "source": [
    "%maven org.knowm.xchart:xchart:3.5.2\n",
    "\n",
    "import org.knowm.xchart.*;\n",
    "\n",
    "public class Example0 {\n",
    " \n",
    "    public static void main(String[] args) throws Exception {\n",
    "        \n",
    "        // these vars hold your X and Y values\n",
    "        double[] xData = new double[] { 0.0, 1.0, 2.0 };\n",
    "        double[] yData = new double[] { 2.0, 1.0, 0.0 };\n",
    "   \n",
    "        // Create Chart\n",
    "        XYChart chart = QuickChart.getChart(\"Sample Chart\", \"X\", \"Y\", \"y(x)\", xData, yData);\n",
    "        \n",
    "        // Show it\n",
    "        new SwingWrapper(chart).displayChart();\n",
    "    }\n",
    "  }\n",
    "\n",
    "  Example0.main(null);"
   ]
  },
  {
   "cell_type": "markdown",
   "metadata": {},
   "source": [
    "## X Chart Graphs with recursion\n",
    "- What is the shape of the graph going to look like when the recursive function is done\n",
    "- The equation would be ______"
   ]
  },
  {
   "cell_type": "code",
   "execution_count": null,
   "metadata": {
    "vscode": {
     "languageId": "java"
    }
   },
   "outputs": [],
   "source": [
    "private static void graph(double[] xData, double[] yData, int index, double x, int maxIndex, double stepSize) {\n",
    "    if (index > maxIndex) {\n",
    "        return;\n",
    "    }\n",
    "\n",
    "    xData[index] = x;\n",
    "    yData[index] = x * x;\n",
    "\n",
    "    graph(xData, yData, index + 1, x + stepSize, maxIndex, stepSize);\n",
    "}"
   ]
  },
  {
   "cell_type": "markdown",
   "metadata": {},
   "source": [
    "%maven org.knowm.xchart:xchart:3.5.2\n",
    "\n",
    "import org.knowm.xchart.*;\n",
    "\n",
    "public class recursiveGraph {\n",
    "\n",
    "    public static void main(String[] args) throws Exception {\n",
    "        int numPoints = 100;\n",
    "        double[] xData = new double[numPoints];\n",
    "        double[] yData = new double[numPoints];\n",
    "\n",
    "        plotParabola(xData, yData, 0, -5.0, numPoints - 1, 0.1);\n",
    "\n",
    "        // Create Chart\n",
    "        XYChart chart = QuickChart.getChart(\"Parabola\", \"X\", \"Y\", \"y(x)\", xData, yData);\n",
    "\n",
    "        // Show it\n",
    "        new SwingWrapper(chart).displayChart();\n",
    "    }\n",
    "\n",
    "    private static void plotParabola(double[] xData, double[] yData, int index, double x, int maxIndex, double stepSize) {\n",
    "        if (index > maxIndex) {\n",
    "            return;\n",
    "        }\n",
    "\n",
    "        xData[index] = x;\n",
    "        yData[index] = x * x;\n",
    "\n",
    "        plotParabola(xData, yData, index + 1, x + stepSize, maxIndex, stepSize);\n",
    "    }\n",
    "}\n",
    "\n",
    "\n",
    "RecursiveGraph.main(null);"
   ]
  },
  {
   "cell_type": "markdown",
   "metadata": {},
   "source": [
    "## XChart 2\n",
    "- What is the shape of the graph going to look like when the recursive function is done\n",
    "- The equation would be ______"
   ]
  },
  {
   "cell_type": "code",
   "execution_count": null,
   "metadata": {
    "vscode": {
     "languageId": "java"
    }
   },
   "outputs": [],
   "source": [
    "private static void plot(double[] xData, double[] yData, int index, double x, int maxIndex, double stepSize, double base) {\n",
    "    if (index > maxIndex) {\n",
    "        return;\n",
    "    }\n",
    "\n",
    "    xData[index] = x;\n",
    "    yData[index] = Math.pow(base, x);\n",
    "\n",
    "    plot(xData, yData, index + 1, x + stepSize, maxIndex, stepSize, base);\n",
    "}"
   ]
  },
  {
   "cell_type": "code",
   "execution_count": null,
   "metadata": {
    "vscode": {
     "languageId": "java"
    }
   },
   "outputs": [],
   "source": [
    "%maven org.knowm.xchart:xchart:3.5.2\n",
    "\n",
    "import org.knowm.xchart.*;\n",
    "\n",
    "public class recursiveGraph2 {\n",
    "\n",
    "    public static void main(String[] args) throws Exception {\n",
    "        int numPoints = 100;\n",
    "        double[] xData = new double[numPoints];\n",
    "        double[] yData = new double[numPoints];\n",
    "\n",
    "        plotExponential(xData, yData, 0, -5.0, numPoints - 1, 0.1, 2.0); // You can adjust the base as needed (e.g., 2.0 for 2^x)\n",
    "\n",
    "        // Create Chart\n",
    "        XYChart chart = QuickChart.getChart(\"Mati Yapping Graph\", \"Seconds of Mati Yapping\", \"My Anger\", \"y(x)\", xData, yData);\n",
    "\n",
    "        // Show it\n",
    "        new SwingWrapper(chart).displayChart();\n",
    "    }\n",
    "\n",
    "    private static void plotExponential(double[] xData, double[] yDawta, int index, double x, int maxIndex, double stepSize, double base) {\n",
    "        if (index > maxIndex) {\n",
    "            return;\n",
    "        }\n",
    "\n",
    "        xData[index] = x;\n",
    "        yData[index] = Math.pow(base, x);\n",
    "\n",
    "        plotExponential(xData, yData, index + 1, x + stepSize, maxIndex, stepSize, base);\n",
    "    }\n",
    "}\n",
    "\n",
    "recursiveGraph2.main(null);"
   ]
  },
  {
   "cell_type": "markdown",
   "metadata": {},
   "source": [
    "# Hacks\n",
    "- Finish all popcorn hacks for the lesson\n",
    "- Follow the directions bellow for the XChart Hacks\n",
    "\n",
    "# Example of Cool Function for the Hacks\n",
    "- If you are having trouble with thinking of a cool equation to put into a recursion form, follow these tips\n",
    "    - Look up the shape/symbol you would like to put into the graph\n",
    "    - Try to split the equation up into what math methods you will need\n",
    "    - Ask the friend who know most about coding (wink wink)\n",
    "\n",
    "\n",
    "- Make sure to take a screenshot of the graph and display it next to it's respective code block"
   ]
  },
  {
   "cell_type": "code",
   "execution_count": null,
   "metadata": {
    "vscode": {
     "languageId": "java"
    }
   },
   "outputs": [],
   "source": [
    "%maven org.knowm.xchart:xchart:3.5.2\n",
    "\n",
    "import org.knowm.xchart.*;\n",
    "\n",
    "public class HeartShapeGraph {\n",
    "\n",
    "    public static void main(String[] args) throws Exception {\n",
    "        int numPoints = 100;\n",
    "        double[] xData = new double[numPoints];\n",
    "        double[] yData = new double[numPoints];\n",
    "\n",
    "        plotHeartShape(xData, yData, 0, 0, numPoints - 1);\n",
    "\n",
    "        // Create Chart\n",
    "        XYChart chart = QuickChart.getChart(\"Heart Shape\", \"X\", \"Y\", \"y(x)\", xData, yData);\n",
    "\n",
    "        // Show it\n",
    "        new SwingWrapper(chart).displayChart();\n",
    "    }\n",
    "\n",
    "    private static void plotHeartShape(double[] xData, double[] yData, int index, double t, int maxIndex) {\n",
    "        if (index > maxIndex) {\n",
    "            return;\n",
    "        }\n",
    "\n",
    "        //Chat GPT Math\n",
    "        xData[index] = 16 * Math.pow(Math.sin(t), 3);\n",
    "        yData[index] = 13 * Math.cos(t) - 5 * Math.cos(2 * t) - 2 * Math.cos(3 * t) - Math.cos(4 * t);\n",
    "\n",
    "        plotHeartShape(xData, yData, index + 1, t + (2 * Math.PI) / maxIndex, maxIndex);\n",
    "    }\n",
    "}\n",
    "\n",
    "HeartShapeGraph.main(null);"
   ]
  }
 ],
 "metadata": {
  "kernelspec": {
   "display_name": "Java",
   "language": "java",
   "name": "java"
  },
  "language_info": {
   "codemirror_mode": "java",
   "file_extension": ".jshell",
   "mimetype": "text/x-java-source",
   "name": "Java",
   "pygments_lexer": "java",
   "version": "20+36-2344"
  }
 },
 "nbformat": 4,
 "nbformat_minor": 2
}
