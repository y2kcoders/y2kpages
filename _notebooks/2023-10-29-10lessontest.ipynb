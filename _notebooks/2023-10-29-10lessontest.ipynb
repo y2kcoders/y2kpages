{
 "cells": [
  {
   "cell_type": "markdown",
   "metadata": {},
   "source": [
    "---\n",
    "layout: post\n",
    "title: Tester\n",
    "description: learn all about recursion in java\n",
    "type: hacks\n",
    "courses: {'csa': {'week': 11}}\n",
    "categories: [C4.1]\n",
    "---"
   ]
  },
  {
   "cell_type": "code",
   "execution_count": null,
   "metadata": {},
   "outputs": [],
   "source": [
    "%maven org.knowm.xchart:xchart:3.5.2\n",
    "\n",
    "import org.knowm.xchart.*;\n",
    "\n",
    "public class HeartShapeGraph {\n",
    "\n",
    "    public static void main(String[] args) throws Exception {\n",
    "        int numPoints = 100;\n",
    "        double[] xData = new double[numPoints];\n",
    "        double[] yData = new double[numPoints];\n",
    "\n",
    "        plotHeartShape(xData, yData, 0, 0, numPoints - 1);\n",
    "\n",
    "        // Create Chart\n",
    "        XYChart chart = QuickChart.getChart(\"Heart Shape\", \"X\", \"Y\", \"y(x)\", xData, yData);\n",
    "\n",
    "        // Show it\n",
    "        new SwingWrapper(chart).displayChart();\n",
    "    }\n",
    "\n",
    "    private static void plotHeartShape(double[] xData, double[] yData, int index, double t, int maxIndex) {\n",
    "        if (index > maxIndex) {\n",
    "            return;\n",
    "        }\n",
    "\n",
    "        //Chat GPT Math\n",
    "        xData[index] = 16 * Math.pow(Math.sin(t), 3);\n",
    "        yData[index] = 13 * Math.cos(t) - 5 * Math.cos(2 * t) - 2 * Math.cos(3 * t) - Math.cos(4 * t);\n",
    "\n",
    "        plotHeartShape(xData, yData, index + 1, t + (2 * Math.PI) / maxIndex, maxIndex);\n",
    "    }\n",
    "}\n",
    "\n",
    "HeartShapeGraph.main(null);"
   ]
  }
 ],
 "metadata": {
  "kernelspec": {
   "display_name": "Java",
   "language": "java",
   "name": "java"
  },
  "language_info": {
   "codemirror_mode": "java",
   "file_extension": ".jshell",
   "mimetype": "text/x-java-source",
   "name": "java",
   "pygments_lexer": "java",
   "version": "3.8.10"
  }
 },
 "nbformat": 4,
 "nbformat_minor": 2
}
