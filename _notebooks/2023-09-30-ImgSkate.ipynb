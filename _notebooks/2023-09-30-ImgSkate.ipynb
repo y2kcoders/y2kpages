{
 "cells": [
  {
   "cell_type": "markdown",
   "metadata": {},
   "source": [
    "---\n",
    "title: Collab with img and Skatepark\n",
    "author: Finn and James\n",
    "description: issue\n",
    "courses: { csa: {week: 4} }\n",
    "type: Testing\n",
    "comments: true\n",
    "---"
   ]
  },
  {
   "cell_type": "markdown",
   "metadata": {},
   "source": [
    "## Explaining my process\n",
    "\n",
    "### How\n",
    "- Will take the code from James img uploading and try to put it into my code\n",
    "\n",
    "### Tried and Failed\n",
    "- I realized that there a lot of extra things and stupid stuff that it makes it really hard to combined the too\n",
    "\n",
    "### How pt2\n",
    "- Im just going to use the db separately but fetch both when using skateparks\n",
    "- I think this will work cause the code for both already independently work, so why not\n",
    "- I only need to make simple javascript additions to make it work\n",
    "\n",
    "## Highlighted Code\n",
    "\n",
    "### Javascript\n",
    "\n",
    "- Learned about the .files\n",
    "- The fetch was similar to normal fetches but had it inside of the other fetch once it finish okay\n",
    "<br>\n",
    "\n",
    "```javascript\n",
    "document.getElementById(\"image\").files[0]\n",
    "```\n",
    "\n",
    "\n",
    "```javascript\n",
    "const imageUploadResponse = await fetch(imageUploadUrl, {\n",
    "method: \"POST\",\n",
    "    body: formData\n",
    "});\n",
    "\n",
    "if (imageUploadResponse.ok) {\n",
    "    console.log(\"Image uploaded successfully\");\n",
    "} else {\n",
    "    console.error(\"Image upload failed\");\n",
    "}\n",
    "\n",
    "```\n",
    "\n",
    "### HTML\n",
    "\n",
    "- This is how you have the input where you click and it opens your files\n",
    "<br>\n",
    "\n",
    "```html\n",
    "<input type=\"file\">\n",
    "```\n",
    "\n",
    "### Updated and Deployed\n",
    "\n",
    "![img]({{site.baseurl}}/images/card.png)"
   ]
  }
 ],
 "metadata": {
  "kernelspec": {
   "display_name": "Java",
   "language": "java",
   "name": "java"
  },
  "language_info": {
   "name": "java"
  }
 },
 "nbformat": 4,
 "nbformat_minor": 2
}
