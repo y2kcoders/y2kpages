{
 "cells": [
  {
   "cell_type": "markdown",
   "metadata": {},
   "source": [
    "---\n",
    "title: Skatepark Code\n",
    "author: Finn C\n",
    "description: Some code for how the backend of the skatepark posts API works, and other problems\n",
    "courses: { csa: {week: 2} }\n",
    "type: Testing\n",
    "---"
   ]
  },
  {
   "cell_type": "code",
   "execution_count": null,
   "metadata": {},
   "outputs": [],
   "source": []
  }
 ],
 "metadata": {
  "language_info": {
   "name": "python"
  }
 },
 "nbformat": 4,
 "nbformat_minor": 2
}
