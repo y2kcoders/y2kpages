{
 "cells": [
  {
   "cell_type": "markdown",
   "metadata": {},
   "source": [
    "---\n",
    "title: Skatepark Code\n",
    "author: Finn C\n",
    "description: Some code for how the backend of the skatepark posts API works, and other problems\n",
    "courses: { csa: {week: 2} }\n",
    "type: Testing\n",
    "---"
   ]
  },
  {
   "cell_type": "markdown",
   "metadata": {},
   "source": [
    "## How I started\n",
    "- Copied the jokes API\n",
    "- Added some more columns for information about the post"
   ]
  },
  {
   "cell_type": "code",
   "execution_count": null,
   "metadata": {},
   "outputs": [],
   "source": [
    "public class Skatepark {\n",
    "    @Id\n",
    "    @GeneratedValue(strategy = GenerationType.AUTO)\n",
    "    private Long id;\n",
    "\n",
    "    @Column(unique = false)\n",
    "    private String skateparkName;\n",
    "    private String author;\n",
    "    private String title;\n",
    "    private String address;\n",
    "    private double starRating;\n",
    "    private String description;\n",
    "    private int totalLikes;\n",
    "\n",
    "    public Skatepark(String skateparkName, String author, String title, String address, double starRating, String description, int totalLikes) {\n",
    "        this.skateparkName = skateparkName;\n",
    "        this.author = author;\n",
    "        this.title = title;\n",
    "        this.address = address;\n",
    "        this.starRating = starRating;\n",
    "        this.description = description;\n",
    "        this.totalLikes = totalLikes;\n",
    "    }\n",
    "    // Setters and Getters\n",
    "}\n"
   ]
  },
  {
   "cell_type": "markdown",
   "metadata": {},
   "source": [
    "## My plan for the controller\n",
    "- Have a create method \n",
    "- Update Like method\n",
    "- Delete method\n",
    "- Read should be easy"
   ]
  },
  {
   "cell_type": "code",
   "execution_count": null,
   "metadata": {},
   "outputs": [],
   "source": [
    "@GetMapping(\"/\")\n",
    "    public ResponseEntity<List<Skatepark>> getSkateparks() {\n",
    "        return new ResponseEntity<>(repository.findAll(), HttpStatus.OK);\n",
    "    }\n",
    "\n",
    "@PostMapping(\"/create\")\n",
    "    public ResponseEntity<Skatepark> createSkatepark(@RequestBody Skatepark skatepark) {\n",
    "        Skatepark savedSkatepark = repository.save(skatepark);\n",
    "        return new ResponseEntity<>(savedSkatepark, HttpStatus.CREATED);\n",
    "    }\n",
    "\n",
    "@PostMapping(\"/like/{name}\")  // Change the path variable to 'name'\n",
    "    public ResponseEntity<Skatepark> updateLikes(@PathVariable String name) {\n",
    "        List<Skatepark> skateparks = repository.findBySkateparkName(name);\n",
    "        if (!skateparks.isEmpty()) {\n",
    "            Skatepark skatepark = skateparks.get(0); // Assuming you want to work with the first matching skatepark\n",
    "            int currentLikes = skatepark.getTotalLikes();\n",
    "            skatepark.setTotalLikes(currentLikes + 1); // Increment likes by 1\n",
    "            // You can also update the author who liked the skatepark\n",
    "            repository.save(skatepark);\n",
    "            return new ResponseEntity<>(skatepark, HttpStatus.OK);\n",
    "        }\n",
    "        return new ResponseEntity<>(HttpStatus.NOT_FOUND);\n",
    "    }\n",
    "\n",
    "@DeleteMapping(\"/delete/{name}\")\n",
    "public ResponseEntity<Void> deleteSkatepark(@PathVariable String name) {\n",
    "    List<Skatepark> skateparks = repository.findBySkateparkName(name);\n",
    "    if (!skateparks.isEmpty()) {\n",
    "        repository.delete(skateparks.get(0)); // Assuming you want to delete the first matching skatepark\n",
    "        return new ResponseEntity<>(HttpStatus.NO_CONTENT);\n",
    "    }\n",
    "    return new ResponseEntity<>(HttpStatus.NOT_FOUND);\n",
    "}"
   ]
  }
 ],
 "metadata": {
  "kernelspec": {
   "display_name": "Java",
   "language": "java",
   "name": "java"
  },
  "language_info": {
   "name": "java"
  }
 },
 "nbformat": 4,
 "nbformat_minor": 2
}
