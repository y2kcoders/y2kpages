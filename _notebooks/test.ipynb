{
 "cells": [
  {
   "cell_type": "markdown",
   "metadata": {},
   "source": [
    " <p class=\"line-1 anim-typewriter\">Animation typewriter style using css steps()</p>\n",
    "<style>\n",
    "    /* Google Fonts */\n",
    "    @import url(https://fonts.googleapis.com/css?family=Anonymous+Pro);\n",
    "    \n",
    "    /* Global */\n",
    "    html{\n",
    "      min-height: 100%;\n",
    "      overflow: hidden;\n",
    "    }\n",
    "    body{\n",
    "      height: calc(100vh - 8em);\n",
    "      padding: 4em;\n",
    "      color: rgba(255,255,255,.75);\n",
    "      font-family: 'Anonymous Pro', monospace;  \n",
    "      background-color: rgb(25,25,25);  \n",
    "    }\n",
    "    .line-1{\n",
    "        position: relative;\n",
    "        top: 50%;  \n",
    "        width: 24em;\n",
    "        margin: 0 auto;\n",
    "        border-right: 2px solid rgba(255,255,255,.75);\n",
    "        font-size: 180%;\n",
    "        text-align: center;\n",
    "        white-space: nowrap;\n",
    "        overflow: hidden;\n",
    "        transform: translateY(-50%);    \n",
    "    }\n",
    "    \n",
    "    /* Animation */\n",
    "    .anim-typewriter{\n",
    "      animation: typewriter 4s steps(44) 1s 1 normal both,\n",
    "                 blinkTextCursor 500ms steps(44) infinite normal;\n",
    "    }\n",
    "    @keyframes typewriter{\n",
    "      from{width: 0;}\n",
    "      to{width: 24em;}\n",
    "    }\n",
    "    @keyframes blinkTextCursor{\n",
    "      from{border-right-color: rgba(255,255,255,.75);}\n",
    "      to{border-right-color: transparent;}\n",
    "    }\n",
    "    </style>\n",
    "   "
   ]
  }
 ],
 "metadata": {
  "kernelspec": {
   "display_name": "Java",
   "language": "java",
   "name": "java"
  },
  "language_info": {
   "name": "java",
   "version": "3.10.0"
  }
 },
 "nbformat": 4,
 "nbformat_minor": 2
}
