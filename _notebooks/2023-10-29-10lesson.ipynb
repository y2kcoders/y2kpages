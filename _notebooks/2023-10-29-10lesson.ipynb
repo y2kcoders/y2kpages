{
 "cells": [
  {
   "cell_type": "markdown",
   "metadata": {},
   "source": [
    "---\n",
    "layout: post\n",
    "title: U10 RECURSION\n",
    "description: learn all about recursion in java\n",
    "type: hacks\n",
    "courses: {'csa': {'week': 11}}\n",
    "categories: [C4.1]\n",
    "---"
   ]
  },
  {
   "cell_type": "markdown",
   "metadata": {},
   "source": [
    "# Recursion Visualized\n",
    "- Finn Carpenter\n",
    "- XCHART Library\n",
    "\n",
    "## Important Note\n",
    "- If you hit the X button to close the window it breaks the kernel\n",
    "- Two Options\n",
    "    - Have a bunch of those windows, when done the close\n",
    "    - Keep refreshing kernel by switching to python and then back to java\n",
    "\n",
    "## Basic X Chart Code\n"
   ]
  },
  {
   "cell_type": "code",
   "execution_count": 1,
   "metadata": {
    "vscode": {
     "languageId": "java"
    }
   },
   "outputs": [],
   "source": [
    "%maven org.knowm.xchart:xchart:3.5.2\n",
    "\n",
    "import org.knowm.xchart.*;\n",
    "\n",
    "public class Example0 {\n",
    " \n",
    "    public static void main(String[] args) throws Exception {\n",
    "        \n",
    "        // these vars hold your X and Y values\n",
    "        double[] xData = new double[] { 0.0, 1.0, 2.0 };\n",
    "        double[] yData = new double[] { 2.0, 1.0, 0.0 };\n",
    "   \n",
    "        // Create Chart\n",
    "        XYChart chart = QuickChart.getChart(\"Sample Chart\", \"X\", \"Y\", \"y(x)\", xData, yData);\n",
    "        \n",
    "        // Show it\n",
    "        new SwingWrapper(chart).displayChart();\n",
    "    }\n",
    "  }\n",
    "\n",
    "  Example0.main(null);"
   ]
  },
  {
   "cell_type": "markdown",
   "metadata": {},
   "source": [
    "## X Chart Graphs with recursion\n",
    "- What is the shape of the graph going to look like when the recursive function is done\n",
    "- The equation would be ______"
   ]
  },
  {
   "cell_type": "code",
   "execution_count": null,
   "metadata": {
    "vscode": {
     "languageId": "java"
    }
   },
   "outputs": [],
   "source": [
    "private static void graph(double[] xData, double[] yData, int index, double x, int maxIndex, double stepSize) {\n",
    "    if (index > maxIndex) {\n",
    "        return;\n",
    "    }\n",
    "\n",
    "    xData[index] = x;\n",
    "    yData[index] = x * x;\n",
    "\n",
    "    graph(xData, yData, index + 1, x + stepSize, maxIndex, stepSize);\n",
    "}"
   ]
  },
  {
   "cell_type": "code",
   "execution_count": 3,
   "metadata": {
    "vscode": {
     "languageId": "java"
    }
   },
   "outputs": [],
   "source": [
    "%maven org.knowm.xchart:xchart:3.5.2\n",
    "\n",
    "import org.knowm.xchart.*;\n",
    "\n",
    "public class recursiveGraph {\n",
    "\n",
    "    public static void main(String[] args) throws Exception {\n",
    "        int numPoints = 100;\n",
    "        double[] xData = new double[numPoints];\n",
    "        double[] yData = new double[numPoints];\n",
    "\n",
    "        plotParabola(xData, yData, 0, -5.0, numPoints - 1, 0.1);\n",
    "\n",
    "        // Create Chart\n",
    "        XYChart chart = QuickChart.getChart(\"Parabola\", \"X\", \"Y\", \"y(x)\", xData, yData);\n",
    "\n",
    "        // Show it\n",
    "        new SwingWrapper(chart).displayChart();\n",
    "    }\n",
    "\n",
    "    private static void plotParabola(double[] xData, double[] yData, int index, double x, int maxIndex, double stepSize) {\n",
    "        if (index > maxIndex) {\n",
    "            return;\n",
    "        }\n",
    "\n",
    "        xData[index] = x;\n",
    "        yData[index] = x * x;\n",
    "\n",
    "        plotParabola(xData, yData, index + 1, x + stepSize, maxIndex, stepSize);\n",
    "    }\n",
    "}\n",
    "\n",
    "\n",
    "RecursiveGraph.main(null);"
   ]
  },
  {
   "cell_type": "markdown",
   "metadata": {},
   "source": [
    "## XChart 2\n",
    "- What is the shape of the graph going to look like when the recursive function is done\n",
    "- The equation would be ______"
   ]
  },
  {
   "cell_type": "code",
   "execution_count": null,
   "metadata": {
    "vscode": {
     "languageId": "java"
    }
   },
   "outputs": [],
   "source": [
    "private static void plot(double[] xData, double[] yData, int index, double x, int maxIndex, double stepSize, double base) {\n",
    "    if (index > maxIndex) {\n",
    "        return;\n",
    "    }\n",
    "\n",
    "    xData[index] = x;\n",
    "    yData[index] = Math.pow(base, x);\n",
    "\n",
    "    plot(xData, yData, index + 1, x + stepSize, maxIndex, stepSize, base);\n",
    "}"
   ]
  },
  {
   "cell_type": "code",
   "execution_count": 3,
   "metadata": {
    "vscode": {
     "languageId": "java"
    }
   },
   "outputs": [],
   "source": [
    "%maven org.knowm.xchart:xchart:3.5.2\n",
    "\n",
    "import org.knowm.xchart.*;\n",
    "\n",
    "public class recursiveGraph2 {\n",
    "\n",
    "    public static void main(String[] args) throws Exception {\n",
    "        int numPoints = 100;\n",
    "        double[] xData = new double[numPoints];\n",
    "        double[] yData = new double[numPoints];\n",
    "\n",
    "        plotExponential(xData, yData, 0, -5.0, numPoints - 1, 0.1, 2.0); // You can adjust the base as needed (e.g., 2.0 for 2^x)\n",
    "\n",
    "        // Create Chart\n",
    "        XYChart chart = QuickChart.getChart(\"Mati Yapping Graph\", \"Seconds of Mati Yapping\", \"My Anger\", \"y(x)\", xData, yData);\n",
    "\n",
    "        // Show it\n",
    "        new SwingWrapper(chart).displayChart();\n",
    "    }\n",
    "\n",
    "    private static void plotExponential(double[] xData, double[] yDawta, int index, double x, int maxIndex, double stepSize, double base) {\n",
    "        if (index > maxIndex) {\n",
    "            return;\n",
    "        }\n",
    "\n",
    "        xData[index] = x;\n",
    "        yData[index] = Math.pow(base, x);\n",
    "\n",
    "        plotExponential(xData, yData, index + 1, x + stepSize, maxIndex, stepSize, base);\n",
    "    }\n",
    "}\n",
    "\n",
    "recursiveGraph2.main(null);"
   ]
  },
  {
   "cell_type": "markdown",
   "metadata": {},
   "source": [
    "# Hacks\n",
    "- Finish all popcorn hacks for the lesson\n",
    "- Follow the directions bellow for the XChart Hacks"
   ]
  },
  {
   "cell_type": "markdown",
   "metadata": {},
   "source": [
    "# Example of Cool Function for the Hacks\n",
    "- If you are having trouble with thinking of a cool equation to put into a recursion form, follow these tips\n",
    "    - Look up the shape/symbol you would like to put into the graph\n",
    "    - Try to split the equation up into what math methods you will need\n",
    "    - Ask the friend who know most about coding (wink wink)\n",
    "\n",
    "\n",
    "- Make sure to take a screenshot of the graph and display it next to it's respective code block"
   ]
  },
  {
   "cell_type": "code",
   "execution_count": null,
   "metadata": {
    "vscode": {
     "languageId": "java"
    }
   },
   "outputs": [],
   "source": [
    "%maven org.knowm.xchart:xchart:3.5.2\n",
    "\n",
    "import org.knowm.xchart.*;\n",
    "\n",
    "public class HeartShapeGraph {\n",
    "\n",
    "    public static void main(String[] args) throws Exception {\n",
    "        int numPoints = 100;\n",
    "        double[] xData = new double[numPoints];\n",
    "        double[] yData = new double[numPoints];\n",
    "\n",
    "        plotHeartShape(xData, yData, 0, 0, numPoints - 1);\n",
    "\n",
    "        // Create Chart\n",
    "        XYChart chart = QuickChart.getChart(\"Heart Shape\", \"X\", \"Y\", \"y(x)\", xData, yData);\n",
    "\n",
    "        // Show it\n",
    "        new SwingWrapper(chart).displayChart();\n",
    "    }\n",
    "\n",
    "    private static void plotHeartShape(double[] xData, double[] yData, int index, double t, int maxIndex) {\n",
    "        if (index > maxIndex) {\n",
    "            return;\n",
    "        }\n",
    "\n",
    "        //Chat GPT Math\n",
    "        xData[index] = 16 * Math.pow(Math.sin(t), 3);\n",
    "        yData[index] = 13 * Math.cos(t) - 5 * Math.cos(2 * t) - 2 * Math.cos(3 * t) - Math.cos(4 * t);\n",
    "\n",
    "        plotHeartShape(xData, yData, index + 1, t + (2 * Math.PI) / maxIndex, maxIndex);\n",
    "    }\n",
    "}\n",
    "\n",
    "HeartShapeGraph.main(null);"
   ]
  }
 ],
 "metadata": {
  "kernelspec": {
   "display_name": "Java",
   "language": "java",
   "name": "java"
  },
  "language_info": {
   "codemirror_mode": "java",
   "file_extension": ".jshell",
   "mimetype": "text/x-java-source",
   "name": "Java",
   "pygments_lexer": "java",
   "version": "20.0.2+9"
  }
 },
 "nbformat": 4,
 "nbformat_minor": 2
}
