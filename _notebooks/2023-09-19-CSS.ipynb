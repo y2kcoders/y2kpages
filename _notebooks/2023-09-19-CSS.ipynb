{
 "cells": [
  {
   "cell_type": "markdown",
   "metadata": {},
   "source": [
    "---\n",
    "title: CSS and HTML\n",
    "author: Mati\n",
    "description: showing different code i used for elements in the site\n",
    "courses: { csa: {week: 1} }\n",
    "type: Testing\n",
    "---"
   ]
  }
 ],
 "metadata": {
  "language_info": {
   "name": "python"
  }
 },
 "nbformat": 4,
 "nbformat_minor": 2
}
